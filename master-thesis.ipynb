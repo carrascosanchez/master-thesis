{
 "cells": [
  {
   "cell_type": "markdown",
   "id": "6935dbc5",
   "metadata": {},
   "source": [
    "## Master in Business Analytics &amp; Big Data - Master's thesis\n",
    "### \"Sales prediction and anomaly detection in times of COVID-19 using data from the stock market and the international press”\n",
    "\n",
    "Full PDF can be read at this link:\n",
    "<br>\n",
    "https://www.linkedin.com/posts/sergio-carrasco-sanchez_final-masters-project-activity-6746471092820475904-YLCE"
   ]
  },
  {
   "cell_type": "code",
   "execution_count": null,
   "id": "6a539ba4",
   "metadata": {},
   "outputs": [],
   "source": []
  }
 ],
 "metadata": {
  "kernelspec": {
   "display_name": "conda_python3",
   "language": "python",
   "name": "conda_python3"
  },
  "language_info": {
   "codemirror_mode": {
    "name": "ipython",
    "version": 3
   },
   "file_extension": ".py",
   "mimetype": "text/x-python",
   "name": "python",
   "nbconvert_exporter": "python",
   "pygments_lexer": "ipython3",
   "version": "3.6.13"
  }
 },
 "nbformat": 4,
 "nbformat_minor": 5
}
