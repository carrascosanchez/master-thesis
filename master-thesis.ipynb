{
 "cells": [
  {
   "cell_type": "markdown",
   "id": "e81ccdfd",
   "metadata": {},
   "source": [
    "## Master in Business Analytics &amp; Big Data - Master's thesis\n",
    "### \"Sales prediction and anomaly detection in times of COVID-19 using data from the stock market and the international press”\n",
    "\n",
    "Full PDF can be read at this link:\n",
    "<br>\n",
    "https://www.linkedin.com/posts/sergio-carrasco-sanchez_final-masters-project-activity-6746471092820475904-YLCE"
   ]
  },
  {
   "cell_type": "markdown",
   "id": "f0478ff4",
   "metadata": {},
   "source": [
    "## Data loading and cleaning\n",
    "### Sales data load"
   ]
  },
  {
   "cell_type": "code",
   "execution_count": 2,
   "id": "0302d224",
   "metadata": {},
   "outputs": [
    {
     "name": "stdout",
     "output_type": "stream",
     "text": [
      "Requirement already satisfied: pandas in /home/ec2-user/anaconda3/envs/python3/lib/python3.6/site-packages (1.1.5)\n",
      "Requirement already satisfied: python-dateutil>=2.7.3 in /home/ec2-user/anaconda3/envs/python3/lib/python3.6/site-packages (from pandas) (2.8.1)\n",
      "Requirement already satisfied: pytz>=2017.2 in /home/ec2-user/anaconda3/envs/python3/lib/python3.6/site-packages (from pandas) (2021.1)\n",
      "Requirement already satisfied: numpy>=1.15.4 in /home/ec2-user/anaconda3/envs/python3/lib/python3.6/site-packages (from pandas) (1.19.5)\n",
      "Requirement already satisfied: six>=1.5 in /home/ec2-user/anaconda3/envs/python3/lib/python3.6/site-packages (from python-dateutil>=2.7.3->pandas) (1.15.0)\n"
     ]
    }
   ],
   "source": [
    "!pip install pandas\n",
    "\n",
    "import pandas as pd"
   ]
  },
  {
   "cell_type": "markdown",
   "id": "8ec8570a",
   "metadata": {},
   "source": [
    "We proceed to load sales data from CSV file."
   ]
  },
  {
   "cell_type": "code",
   "execution_count": 3,
   "id": "da442f54",
   "metadata": {},
   "outputs": [],
   "source": [
    "sales_data_df = pd.read_csv('./datasets/orders.csv')"
   ]
  },
  {
   "cell_type": "code",
   "execution_count": null,
   "id": "20e592c8",
   "metadata": {},
   "outputs": [],
   "source": []
  }
 ],
 "metadata": {
  "kernelspec": {
   "display_name": "conda_python3",
   "language": "python",
   "name": "conda_python3"
  },
  "language_info": {
   "codemirror_mode": {
    "name": "ipython",
    "version": 3
   },
   "file_extension": ".py",
   "mimetype": "text/x-python",
   "name": "python",
   "nbconvert_exporter": "python",
   "pygments_lexer": "ipython3",
   "version": "3.6.13"
  }
 },
 "nbformat": 4,
 "nbformat_minor": 5
}
