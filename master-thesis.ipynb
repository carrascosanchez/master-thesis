{
 "cells": [
  {
   "cell_type": "markdown",
   "id": "a8d098df",
   "metadata": {},
   "source": [
    "## Master in Business Analytics &amp; Big Data - Master's thesis\n",
    "### \"Sales prediction and anomaly detection in times of COVID-19 using data from the stock market and the international press”\n",
    "\n",
    "Full PDF can be read at this link:\n",
    "<br>\n",
    "https://www.linkedin.com/posts/sergio-carrasco-sanchez_final-masters-project-activity-6746471092820475904-YLCE"
   ]
  },
  {
   "cell_type": "markdown",
   "id": "644448a4",
   "metadata": {},
   "source": [
    "## Data loading and cleaning\n",
    "### Sales data load"
   ]
  },
  {
   "cell_type": "code",
   "execution_count": 4,
   "id": "35518fb7",
   "metadata": {},
   "outputs": [
    {
     "name": "stdout",
     "output_type": "stream",
     "text": [
      "Requirement already satisfied: pip in /home/ec2-user/anaconda3/envs/python3/lib/python3.6/site-packages (21.2.4)\n",
      "Collecting pip\n",
      "  Downloading pip-21.3-py3-none-any.whl (1.7 MB)\n",
      "\u001b[K     |████████████████████████████████| 1.7 MB 24.0 MB/s eta 0:00:01\n",
      "\u001b[?25hInstalling collected packages: pip\n",
      "  Attempting uninstall: pip\n",
      "    Found existing installation: pip 21.2.4\n",
      "    Uninstalling pip-21.2.4:\n",
      "      Successfully uninstalled pip-21.2.4\n",
      "Successfully installed pip-21.3\n"
     ]
    }
   ],
   "source": [
    "!pip install --upgrade pip"
   ]
  },
  {
   "cell_type": "code",
   "execution_count": 5,
   "id": "bb5f54fa",
   "metadata": {},
   "outputs": [
    {
     "name": "stdout",
     "output_type": "stream",
     "text": [
      "Requirement already satisfied: pandas in /home/ec2-user/anaconda3/envs/python3/lib/python3.6/site-packages (1.1.5)\n",
      "Requirement already satisfied: python-dateutil>=2.7.3 in /home/ec2-user/anaconda3/envs/python3/lib/python3.6/site-packages (from pandas) (2.8.1)\n",
      "Requirement already satisfied: pytz>=2017.2 in /home/ec2-user/anaconda3/envs/python3/lib/python3.6/site-packages (from pandas) (2021.1)\n",
      "Requirement already satisfied: numpy>=1.15.4 in /home/ec2-user/anaconda3/envs/python3/lib/python3.6/site-packages (from pandas) (1.19.5)\n",
      "Requirement already satisfied: six>=1.5 in /home/ec2-user/anaconda3/envs/python3/lib/python3.6/site-packages (from python-dateutil>=2.7.3->pandas) (1.15.0)\n"
     ]
    }
   ],
   "source": [
    "!pip install pandas\n",
    "\n",
    "import pandas as pd"
   ]
  },
  {
   "cell_type": "markdown",
   "id": "83fbdccc",
   "metadata": {},
   "source": [
    "We proceed to load sales data from CSV file."
   ]
  },
  {
   "cell_type": "code",
   "execution_count": 2,
   "id": "f2d5480a",
   "metadata": {},
   "outputs": [],
   "source": [
    "sales_data_df = pd.read_csv('./datasets/orders.csv')"
   ]
  },
  {
   "cell_type": "code",
   "execution_count": 3,
   "id": "a9652dee",
   "metadata": {},
   "outputs": [
    {
     "data": {
      "text/html": [
       "<div>\n",
       "<style scoped>\n",
       "    .dataframe tbody tr th:only-of-type {\n",
       "        vertical-align: middle;\n",
       "    }\n",
       "\n",
       "    .dataframe tbody tr th {\n",
       "        vertical-align: top;\n",
       "    }\n",
       "\n",
       "    .dataframe thead th {\n",
       "        text-align: right;\n",
       "    }\n",
       "</style>\n",
       "<table border=\"1\" class=\"dataframe\">\n",
       "  <thead>\n",
       "    <tr style=\"text-align: right;\">\n",
       "      <th></th>\n",
       "      <th>id</th>\n",
       "      <th>date</th>\n",
       "      <th>user</th>\n",
       "      <th>payment_method</th>\n",
       "      <th>total</th>\n",
       "      <th>subtotal</th>\n",
       "      <th>discount</th>\n",
       "      <th>shipping_costs</th>\n",
       "    </tr>\n",
       "  </thead>\n",
       "  <tbody>\n",
       "    <tr>\n",
       "      <th>0</th>\n",
       "      <td>1</td>\n",
       "      <td>2014-05-02 18:32:01</td>\n",
       "      <td>10614</td>\n",
       "      <td>bank_transfer</td>\n",
       "      <td>7.85</td>\n",
       "      <td>2.95</td>\n",
       "      <td>0.0</td>\n",
       "      <td>4.9</td>\n",
       "    </tr>\n",
       "    <tr>\n",
       "      <th>1</th>\n",
       "      <td>2</td>\n",
       "      <td>2014-05-02 19:01:55</td>\n",
       "      <td>10614</td>\n",
       "      <td>bank_transfer</td>\n",
       "      <td>8.19</td>\n",
       "      <td>3.29</td>\n",
       "      <td>0.0</td>\n",
       "      <td>4.9</td>\n",
       "    </tr>\n",
       "    <tr>\n",
       "      <th>2</th>\n",
       "      <td>3</td>\n",
       "      <td>2014-05-05 15:39:38</td>\n",
       "      <td>10615</td>\n",
       "      <td>cash_on_delivery</td>\n",
       "      <td>10.65</td>\n",
       "      <td>5.75</td>\n",
       "      <td>0.0</td>\n",
       "      <td>4.9</td>\n",
       "    </tr>\n",
       "    <tr>\n",
       "      <th>3</th>\n",
       "      <td>7</td>\n",
       "      <td>2014-05-12 14:48:47</td>\n",
       "      <td>10619</td>\n",
       "      <td>bank_transfer</td>\n",
       "      <td>7.39</td>\n",
       "      <td>2.49</td>\n",
       "      <td>0.0</td>\n",
       "      <td>4.9</td>\n",
       "    </tr>\n",
       "    <tr>\n",
       "      <th>4</th>\n",
       "      <td>8</td>\n",
       "      <td>2014-05-12 14:52:46</td>\n",
       "      <td>10619</td>\n",
       "      <td>cash_on_delivery</td>\n",
       "      <td>8.00</td>\n",
       "      <td>3.10</td>\n",
       "      <td>0.0</td>\n",
       "      <td>4.9</td>\n",
       "    </tr>\n",
       "    <tr>\n",
       "      <th>...</th>\n",
       "      <td>...</td>\n",
       "      <td>...</td>\n",
       "      <td>...</td>\n",
       "      <td>...</td>\n",
       "      <td>...</td>\n",
       "      <td>...</td>\n",
       "      <td>...</td>\n",
       "      <td>...</td>\n",
       "    </tr>\n",
       "    <tr>\n",
       "      <th>119375</th>\n",
       "      <td>128481</td>\n",
       "      <td>2020-10-31 21:16:04</td>\n",
       "      <td>68077</td>\n",
       "      <td>cash_on_delivery</td>\n",
       "      <td>13.25</td>\n",
       "      <td>8.35</td>\n",
       "      <td>0.0</td>\n",
       "      <td>4.9</td>\n",
       "    </tr>\n",
       "    <tr>\n",
       "      <th>119376</th>\n",
       "      <td>128482</td>\n",
       "      <td>2020-10-31 21:30:12</td>\n",
       "      <td>68078</td>\n",
       "      <td>cash_on_delivery</td>\n",
       "      <td>16.80</td>\n",
       "      <td>11.90</td>\n",
       "      <td>0.0</td>\n",
       "      <td>4.9</td>\n",
       "    </tr>\n",
       "    <tr>\n",
       "      <th>119377</th>\n",
       "      <td>128483</td>\n",
       "      <td>2020-10-31 22:00:58</td>\n",
       "      <td>41554</td>\n",
       "      <td>credit_card</td>\n",
       "      <td>52.86</td>\n",
       "      <td>47.96</td>\n",
       "      <td>0.0</td>\n",
       "      <td>4.9</td>\n",
       "    </tr>\n",
       "    <tr>\n",
       "      <th>119378</th>\n",
       "      <td>128484</td>\n",
       "      <td>2020-10-31 22:13:14</td>\n",
       "      <td>64540</td>\n",
       "      <td>paypal</td>\n",
       "      <td>23.25</td>\n",
       "      <td>18.35</td>\n",
       "      <td>0.0</td>\n",
       "      <td>4.9</td>\n",
       "    </tr>\n",
       "    <tr>\n",
       "      <th>119379</th>\n",
       "      <td>128485</td>\n",
       "      <td>2020-10-31 23:21:35</td>\n",
       "      <td>48683</td>\n",
       "      <td>cash_on_delivery</td>\n",
       "      <td>81.25</td>\n",
       "      <td>81.25</td>\n",
       "      <td>0.0</td>\n",
       "      <td>0.0</td>\n",
       "    </tr>\n",
       "  </tbody>\n",
       "</table>\n",
       "<p>119380 rows × 8 columns</p>\n",
       "</div>"
      ],
      "text/plain": [
       "            id                 date   user    payment_method  total  subtotal  \\\n",
       "0            1  2014-05-02 18:32:01  10614     bank_transfer   7.85      2.95   \n",
       "1            2  2014-05-02 19:01:55  10614     bank_transfer   8.19      3.29   \n",
       "2            3  2014-05-05 15:39:38  10615  cash_on_delivery  10.65      5.75   \n",
       "3            7  2014-05-12 14:48:47  10619     bank_transfer   7.39      2.49   \n",
       "4            8  2014-05-12 14:52:46  10619  cash_on_delivery   8.00      3.10   \n",
       "...        ...                  ...    ...               ...    ...       ...   \n",
       "119375  128481  2020-10-31 21:16:04  68077  cash_on_delivery  13.25      8.35   \n",
       "119376  128482  2020-10-31 21:30:12  68078  cash_on_delivery  16.80     11.90   \n",
       "119377  128483  2020-10-31 22:00:58  41554       credit_card  52.86     47.96   \n",
       "119378  128484  2020-10-31 22:13:14  64540            paypal  23.25     18.35   \n",
       "119379  128485  2020-10-31 23:21:35  48683  cash_on_delivery  81.25     81.25   \n",
       "\n",
       "        discount  shipping_costs  \n",
       "0            0.0             4.9  \n",
       "1            0.0             4.9  \n",
       "2            0.0             4.9  \n",
       "3            0.0             4.9  \n",
       "4            0.0             4.9  \n",
       "...          ...             ...  \n",
       "119375       0.0             4.9  \n",
       "119376       0.0             4.9  \n",
       "119377       0.0             4.9  \n",
       "119378       0.0             4.9  \n",
       "119379       0.0             0.0  \n",
       "\n",
       "[119380 rows x 8 columns]"
      ]
     },
     "execution_count": 3,
     "metadata": {},
     "output_type": "execute_result"
    }
   ],
   "source": [
    "sales_data_df"
   ]
  }
 ],
 "metadata": {
  "kernelspec": {
   "display_name": "conda_python3",
   "language": "python",
   "name": "conda_python3"
  },
  "language_info": {
   "codemirror_mode": {
    "name": "ipython",
    "version": 3
   },
   "file_extension": ".py",
   "mimetype": "text/x-python",
   "name": "python",
   "nbconvert_exporter": "python",
   "pygments_lexer": "ipython3",
   "version": "3.6.13"
  }
 },
 "nbformat": 4,
 "nbformat_minor": 5
}
